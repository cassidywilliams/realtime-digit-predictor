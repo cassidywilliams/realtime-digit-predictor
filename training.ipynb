{
  "nbformat": 4,
  "nbformat_minor": 0,
  "metadata": {
    "colab": {
      "name": "training.ipynb",
      "provenance": [],
      "collapsed_sections": [],
      "authorship_tag": "ABX9TyOfc3ORUqQKzS7wFELWh1tc",
      "include_colab_link": true
    },
    "kernelspec": {
      "name": "python3",
      "display_name": "Python 3"
    },
    "accelerator": "GPU"
  },
  "cells": [
    {
      "cell_type": "markdown",
      "metadata": {
        "id": "view-in-github",
        "colab_type": "text"
      },
      "source": [
        "<a href=\"https://colab.research.google.com/github/cassidywilliams/realtime-digit-predictor/blob/master/training.ipynb\" target=\"_parent\"><img src=\"https://colab.research.google.com/assets/colab-badge.svg\" alt=\"Open In Colab\"/></a>"
      ]
    },
    {
      "cell_type": "code",
      "metadata": {
        "id": "yHub_0nZXljR",
        "colab_type": "code",
        "outputId": "99a6cd7d-0c80-46cc-edad-6f80268b3677",
        "colab": {
          "base_uri": "https://localhost:8080/",
          "height": 34
        }
      },
      "source": [
        "import keras\n",
        "from keras.datasets import mnist\n",
        "from keras.models import Sequential\n",
        "from keras.layers import Dense, Dropout, Flatten\n",
        "from keras.layers import Conv2D, MaxPooling2D\n",
        "from keras import backend as K"
      ],
      "execution_count": 0,
      "outputs": [
        {
          "output_type": "stream",
          "text": [
            "Using TensorFlow backend.\n"
          ],
          "name": "stderr"
        }
      ]
    },
    {
      "cell_type": "code",
      "metadata": {
        "id": "JJLP3_nddkCd",
        "colab_type": "code",
        "colab": {}
      },
      "source": [
        "batch_size = 256\n",
        "num_classes = 10\n",
        "epochs = 12"
      ],
      "execution_count": 0,
      "outputs": []
    },
    {
      "cell_type": "code",
      "metadata": {
        "id": "at4gUOIjYzA1",
        "colab_type": "code",
        "outputId": "0c482bba-21b5-4bf2-d870-57e8a7eba3dc",
        "colab": {
          "base_uri": "https://localhost:8080/",
          "height": 68
        }
      },
      "source": [
        "img_rows, img_cols = 28, 28\n",
        "\n",
        "(x_train, y_train), (x_test, y_test) = mnist.load_data()\n",
        "\n",
        "if K.image_data_format() == 'channels_first':\n",
        "    x_train = x_train.reshape(x_train.shape[0], 1, img_rows, img_cols)\n",
        "    x_test = x_test.reshape(x_test.shape[0], 1, img_rows, img_cols)\n",
        "    input_shape = (1, img_rows, img_cols)\n",
        "else:\n",
        "    x_train = x_train.reshape(x_train.shape[0], img_rows, img_cols, 1)\n",
        "    x_test = x_test.reshape(x_test.shape[0], img_rows, img_cols, 1)\n",
        "    input_shape = (img_rows, img_cols, 1)\n",
        "\n",
        "x_train = x_train.astype('float32')\n",
        "x_test = x_test.astype('float32')\n",
        "x_train /= 255\n",
        "x_test /= 255\n",
        "print('x_train shape:', x_train.shape)\n",
        "print(x_train.shape[0], 'train samples')\n",
        "print(x_test.shape[0], 'test samples')\n",
        "\n",
        "y_train = keras.utils.to_categorical(y_train, num_classes)\n",
        "y_test = keras.utils.to_categorical(y_test, num_classes)"
      ],
      "execution_count": 0,
      "outputs": [
        {
          "output_type": "stream",
          "text": [
            "x_train shape: (60000, 28, 28, 1)\n",
            "60000 train samples\n",
            "10000 test samples\n"
          ],
          "name": "stdout"
        }
      ]
    },
    {
      "cell_type": "code",
      "metadata": {
        "id": "-T0v5wY-Zhqp",
        "colab_type": "code",
        "colab": {}
      },
      "source": [
        "def create_cnn_model(num_classes):\n",
        "  \n",
        "\n",
        "    model = Sequential()\n",
        "    model.add(Conv2D(32, kernel_size=(3, 3),\n",
        "                    activation='relu',\n",
        "                    input_shape=input_shape))\n",
        "    model.add(Conv2D(64, (3, 3), activation='relu'))\n",
        "    model.add(MaxPooling2D(pool_size=(2, 2)))\n",
        "    model.add(Dropout(0.25))\n",
        "    model.add(Flatten())\n",
        "    model.add(Dense(128, activation='relu'))\n",
        "    model.add(Dropout(0.5))\n",
        "    model.add(Dense(num_classes, activation='softmax'))\n",
        "\n",
        "    model.compile(loss=keras.losses.categorical_crossentropy,\n",
        "              optimizer=keras.optimizers.Adadelta(),\n",
        "              metrics=['accuracy'])\n",
        "\n",
        "    \n",
        "    return model"
      ],
      "execution_count": 0,
      "outputs": []
    },
    {
      "cell_type": "code",
      "metadata": {
        "id": "VvFT-XkodpeW",
        "colab_type": "code",
        "colab": {}
      },
      "source": [
        "model = create_cnn_model(num_classes)"
      ],
      "execution_count": 0,
      "outputs": []
    },
    {
      "cell_type": "code",
      "metadata": {
        "id": "wIWRWoKVdApB",
        "colab_type": "code",
        "colab": {}
      },
      "source": [
        "def fit_eval_cnn_model(x_train, y_train, x_test, y_test, batch_size, epochs):\n",
        "    model.fit(x_train, y_train,\n",
        "          batch_size=batch_size,\n",
        "          epochs=epochs,\n",
        "          verbose=1,\n",
        "          validation_data=(x_test, y_test))\n",
        "    score = model.evaluate(x_test, y_test, verbose=0)\n",
        "    print('Test loss:', score[0])\n",
        "    print('Test accuracy:', score[1])"
      ],
      "execution_count": 0,
      "outputs": []
    },
    {
      "cell_type": "code",
      "metadata": {
        "id": "H2IZBC0Hdspj",
        "colab_type": "code",
        "outputId": "4915ca55-00b7-4a41-9bc2-eaf72f06c77f",
        "colab": {
          "base_uri": "https://localhost:8080/",
          "height": 476
        }
      },
      "source": [
        "fit_eval_cnn_model(x_train, y_train, x_test, y_test, batch_size, epochs)"
      ],
      "execution_count": 0,
      "outputs": [
        {
          "output_type": "stream",
          "text": [
            "Train on 60000 samples, validate on 10000 samples\n",
            "Epoch 1/12\n",
            "60000/60000 [==============================] - 13s 212us/step - loss: 0.3624 - accuracy: 0.8880 - val_loss: 0.0769 - val_accuracy: 0.9746\n",
            "Epoch 2/12\n",
            "60000/60000 [==============================] - 7s 109us/step - loss: 0.1096 - accuracy: 0.9673 - val_loss: 0.0564 - val_accuracy: 0.9828\n",
            "Epoch 3/12\n",
            "60000/60000 [==============================] - 7s 109us/step - loss: 0.0817 - accuracy: 0.9757 - val_loss: 0.0470 - val_accuracy: 0.9859\n",
            "Epoch 4/12\n",
            "60000/60000 [==============================] - 7s 109us/step - loss: 0.0663 - accuracy: 0.9800 - val_loss: 0.0390 - val_accuracy: 0.9865\n",
            "Epoch 5/12\n",
            "60000/60000 [==============================] - 6s 107us/step - loss: 0.0579 - accuracy: 0.9829 - val_loss: 0.0400 - val_accuracy: 0.9875\n",
            "Epoch 6/12\n",
            "60000/60000 [==============================] - 6s 107us/step - loss: 0.0498 - accuracy: 0.9854 - val_loss: 0.0308 - val_accuracy: 0.9899\n",
            "Epoch 7/12\n",
            "60000/60000 [==============================] - 7s 109us/step - loss: 0.0462 - accuracy: 0.9865 - val_loss: 0.0319 - val_accuracy: 0.9894\n",
            "Epoch 8/12\n",
            "60000/60000 [==============================] - 6s 108us/step - loss: 0.0406 - accuracy: 0.9876 - val_loss: 0.0308 - val_accuracy: 0.9898\n",
            "Epoch 9/12\n",
            "60000/60000 [==============================] - 6s 108us/step - loss: 0.0380 - accuracy: 0.9883 - val_loss: 0.0292 - val_accuracy: 0.9905\n",
            "Epoch 10/12\n",
            "60000/60000 [==============================] - 6s 108us/step - loss: 0.0352 - accuracy: 0.9896 - val_loss: 0.0289 - val_accuracy: 0.9911\n",
            "Epoch 11/12\n",
            "60000/60000 [==============================] - 6s 108us/step - loss: 0.0317 - accuracy: 0.9900 - val_loss: 0.0296 - val_accuracy: 0.9913\n",
            "Epoch 12/12\n",
            "60000/60000 [==============================] - 6s 108us/step - loss: 0.0304 - accuracy: 0.9906 - val_loss: 0.0293 - val_accuracy: 0.9907\n",
            "Test loss: 0.02928643667883516\n",
            "Test accuracy: 0.9907000064849854\n"
          ],
          "name": "stdout"
        }
      ]
    },
    {
      "cell_type": "code",
      "metadata": {
        "id": "pJQZCvfkhrYS",
        "colab_type": "code",
        "colab": {}
      },
      "source": [
        "model.save('initial_mnist.h5')"
      ],
      "execution_count": 0,
      "outputs": []
    }
  ]
}